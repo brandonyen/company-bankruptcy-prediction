{
 "cells": [
  {
   "cell_type": "markdown",
   "metadata": {},
   "source": [
    "# Data Exploration and Processing\n",
    "\n",
    "The dataset has 95 features, far too many to properly predict the target (if the company is bankrupt or not). Therefore, some data exploration and processing must be done in order to narrow down the dataset."
   ]
  },
  {
   "cell_type": "code",
   "execution_count": 1,
   "metadata": {},
   "outputs": [],
   "source": [
    "# Import libraries\n",
    "import numpy as np\n",
    "import pandas as pd\n",
    "from sklearn.preprocessing import QuantileTransformer\n",
    "import matplotlib.pyplot as plt\n",
    "from scipy.stats import shapiro"
   ]
  },
  {
   "cell_type": "markdown",
   "metadata": {},
   "source": [
    "Ideas for feature reduction:\n",
    "- Remove low variance features\n",
    "- Remove features with low correlation to target\n",
    "- Transform data into Gaussian and remove features that are still non-Gaussian"
   ]
  },
  {
   "cell_type": "code",
   "execution_count": 35,
   "metadata": {},
   "outputs": [],
   "source": [
    "# Read data and separate into features and target\n",
    "df = pd.read_csv('train_data.csv')\n",
    "X_train = df.drop('Bankrupt?', axis=1)\n",
    "y_train = df['Bankrupt?']"
   ]
  },
  {
   "cell_type": "code",
   "execution_count": 36,
   "metadata": {},
   "outputs": [],
   "source": [
    "# Remove features where the variance is less than 0.001\n",
    "var = X_train.var()\n",
    "low_variance_cols = np.where(var < 0.001)[0].tolist()\n",
    "high_variance_df = X_train.drop(X_train.columns[low_variance_cols], axis=1)"
   ]
  },
  {
   "cell_type": "code",
   "execution_count": 37,
   "metadata": {},
   "outputs": [],
   "source": [
    "# Remove features with a low correlation to the target\n",
    "correlations = df.corr()['Bankrupt?'].abs().sort_values(ascending=False)\n",
    "correlations = correlations.drop('Bankrupt?')\n",
    "high_correlation_cols = correlations.head(high_variance_df.shape[1])\n",
    "high_correlation_cols = high_correlation_cols.index.tolist()\n",
    "high_correlation_df = df.loc[:,high_correlation_cols]"
   ]
  },
  {
   "cell_type": "code",
   "execution_count": 38,
   "metadata": {},
   "outputs": [],
   "source": [
    "# Resulting features are the intersection of the high variance and high correlation features\n",
    "high_var_corr_cols = list(set(high_variance_df.columns.tolist()).intersection(set(high_correlation_df.columns.tolist())))\n",
    "high_var_corr_df = X_train.loc[:,high_var_corr_cols]"
   ]
  },
  {
   "cell_type": "code",
   "execution_count": 39,
   "metadata": {},
   "outputs": [
    {
     "name": "stdout",
     "output_type": "stream",
     "text": [
      "Columns being dropped: [' Liability-Assets Flag', ' Tax rate (A)']\n"
     ]
    },
    {
     "name": "stderr",
     "output_type": "stream",
     "text": [
      "/Library/Frameworks/Python.framework/Versions/3.11/lib/python3.11/site-packages/scipy/stats/_axis_nan_policy.py:573: UserWarning: scipy.stats.shapiro: For N > 5000, computed p-value may not be accurate. Current N is 5807.\n",
      "  res = hypotest_fun_out(*samples, **kwds)\n"
     ]
    }
   ],
   "source": [
    "# Transform all features into Gaussian, then drop features that are still not Gaussian\n",
    "qt = QuantileTransformer(output_distribution='normal', random_state=42)\n",
    "df_qt = qt.fit_transform(high_var_corr_df)\n",
    "high_var_corr_df = pd.DataFrame(df_qt, columns=high_var_corr_df.columns)\n",
    "\n",
    "cols_to_drop = []\n",
    "for i in high_var_corr_df.columns:\n",
    "    stat, p = shapiro(high_var_corr_df.loc[:,i])\n",
    "    if stat < 0.9:\n",
    "        cols_to_drop.append(i)\n",
    "\n",
    "print(f'Columns being dropped: {cols_to_drop}')\n",
    "high_var_corr_df = high_var_corr_df.drop(columns=cols_to_drop)"
   ]
  },
  {
   "cell_type": "code",
   "execution_count": 41,
   "metadata": {},
   "outputs": [],
   "source": [
    "# Export data\n",
    "high_var_corr_df.to_csv('processed_train_data.csv',index=False)"
   ]
  }
 ],
 "metadata": {
  "kernelspec": {
   "display_name": "Python 3",
   "language": "python",
   "name": "python3"
  },
  "language_info": {
   "codemirror_mode": {
    "name": "ipython",
    "version": 3
   },
   "file_extension": ".py",
   "mimetype": "text/x-python",
   "name": "python",
   "nbconvert_exporter": "python",
   "pygments_lexer": "ipython3",
   "version": "3.11.0"
  }
 },
 "nbformat": 4,
 "nbformat_minor": 2
}
