{
 "cells": [
  {
   "cell_type": "code",
   "execution_count": 25,
   "metadata": {},
   "outputs": [],
   "source": [
    "import numpy as np\n",
    "import pandas as pd\n",
    "import joblib\n",
    "import seaborn as sns\n",
    "import matplotlib.pyplot as plt\n",
    "from sklearn.preprocessing import QuantileTransformer\n",
    "from sklearn.cluster import KMeans\n",
    "from scipy.stats import shapiro\n",
    "\n",
    "df = pd.read_csv('test_data.csv')\n",
    "df = df.drop('Index', axis=1)\n",
    "\n",
    "cols_to_keep = [' Current Liability to Assets', ' Net worth/Assets',\n",
    "       ' Net Value Growth Rate', ' Debt ratio %',\n",
    "       ' Net Income to Total Assets',\n",
    "       ' Per Share Net profit before tax (Yuan ¥)',\n",
    "       ' Current Liability to Current Assets', ' Cash/Current Liability',\n",
    "       ' Operating Funds to Liability', ' Liability-Assets Flag',\n",
    "       ' ROA(B) before interest and depreciation after tax',\n",
    "       ' Cash Flow to Total Assets', ' Cash/Total Assets',\n",
    "       ' Net Value Per Share (C)', ' CFO to Assets',\n",
    "       ' Current Assets/Total Assets', ' Revenue per person',\n",
    "       ' Working Capital to Total Assets', ' Net Value Per Share (A)',\n",
    "       ' Tax rate (A)', ' Net profit before tax/Paid-in capital',\n",
    "       ' Persistent EPS in the Last Four Seasons',\n",
    "       ' Fixed Assets Turnover Frequency', ' Net Value Per Share (B)',\n",
    "       ' Fixed Assets to Assets', ' Total Asset Turnover',\n",
    "       ' ROA(A) before interest and % after tax',\n",
    "       ' ROA(C) before interest and depreciation before interest',\n",
    "       ' Quick Assets/Total Assets', ' Equity to Liability']\n",
    "\n",
    "df = df[cols_to_keep]\n",
    "\n",
    "qt = joblib.load('qt.pkl')\n",
    "\n",
    "qt_data = qt.transform(df)\n",
    "\n",
    "df = pd.DataFrame(qt_data, columns=df.columns)\n",
    "\n",
    "cols_to_drop = []\n",
    "for i in df.columns:\n",
    "    stat, p = shapiro(df.loc[:,i])\n",
    "    if stat < 0.9:\n",
    "        cols_to_drop.append(i)\n",
    "\n",
    "df = df.drop(columns=cols_to_drop)\n",
    "\n",
    "kmeans = joblib.load('kmeans.pkl')\n",
    "cluster_ids = kmeans.predict(df)\n",
    "df.insert(0, 'Cluster ID', cluster_ids)\n",
    "\n",
    "df.to_csv('processed_test_data.csv',index=False)"
   ]
  }
 ],
 "metadata": {
  "kernelspec": {
   "display_name": "Python 3",
   "language": "python",
   "name": "python3"
  },
  "language_info": {
   "codemirror_mode": {
    "name": "ipython",
    "version": 3
   },
   "file_extension": ".py",
   "mimetype": "text/x-python",
   "name": "python",
   "nbconvert_exporter": "python",
   "pygments_lexer": "ipython3",
   "version": "3.11.0"
  }
 },
 "nbformat": 4,
 "nbformat_minor": 2
}
