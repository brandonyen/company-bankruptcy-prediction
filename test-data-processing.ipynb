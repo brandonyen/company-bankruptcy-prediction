{
 "cells": [
  {
   "cell_type": "code",
   "execution_count": 3,
   "metadata": {},
   "outputs": [],
   "source": [
    "import numpy as np\n",
    "import pandas as pd\n",
    "import joblib\n",
    "import seaborn as sns\n",
    "import matplotlib.pyplot as plt\n",
    "from sklearn.preprocessing import QuantileTransformer\n",
    "from sklearn.cluster import KMeans\n",
    "from scipy.stats import shapiro\n",
    "\n",
    "df = pd.read_csv('test_data.csv')\n",
    "df = df.drop('Index', axis=1)\n",
    "\n",
    "cols_to_keep = [' CFO to Assets',\n",
    "       ' ROA(C) before interest and depreciation before interest',\n",
    "       ' Persistent EPS in the Last Four Seasons',\n",
    "       ' Fixed Assets Turnover Frequency', ' Quick Assets/Total Assets',\n",
    "       ' Net Value Per Share (A)', ' Cash/Current Liability',\n",
    "       ' Per Share Net profit before tax (Yuan ¥)', ' Fixed Assets to Assets',\n",
    "       ' ROA(A) before interest and % after tax',\n",
    "       ' ROA(B) before interest and depreciation after tax',\n",
    "       ' Net Income to Total Assets', ' Cash/Total Assets',\n",
    "       ' Total Asset Turnover', ' Working Capital to Total Assets',\n",
    "       ' Tax rate (A)', ' Net profit before tax/Paid-in capital',\n",
    "       ' Operating Funds to Liability', ' Current Liability to Current Assets',\n",
    "       ' Liability-Assets Flag', ' Net worth/Assets',\n",
    "       ' Current Liability to Assets', ' Net Value Per Share (C)',\n",
    "       ' Current Assets/Total Assets', ' Net Value Per Share (B)',\n",
    "       ' Revenue per person', ' Cash Flow to Total Assets', ' Debt ratio %',\n",
    "       ' Equity to Liability', ' Net Value Growth Rate']\n",
    "\n",
    "df = df[cols_to_keep]\n",
    "\n",
    "qt = joblib.load('qt.pkl')\n",
    "\n",
    "qt_data = qt.transform(df)\n",
    "\n",
    "df = pd.DataFrame(qt_data, columns=df.columns)\n",
    "\n",
    "cols_to_drop = []\n",
    "for i in df.columns:\n",
    "    stat, p = shapiro(df.loc[:,i])\n",
    "    if stat < 0.9:\n",
    "        cols_to_drop.append(i)\n",
    "\n",
    "df = df.drop(columns=cols_to_drop)\n",
    "\n",
    "df.to_csv('processed_test_data.csv',index=False)"
   ]
  }
 ],
 "metadata": {
  "kernelspec": {
   "display_name": "Python 3",
   "language": "python",
   "name": "python3"
  },
  "language_info": {
   "codemirror_mode": {
    "name": "ipython",
    "version": 3
   },
   "file_extension": ".py",
   "mimetype": "text/x-python",
   "name": "python",
   "nbconvert_exporter": "python",
   "pygments_lexer": "ipython3",
   "version": "3.11.0"
  }
 },
 "nbformat": 4,
 "nbformat_minor": 2
}
