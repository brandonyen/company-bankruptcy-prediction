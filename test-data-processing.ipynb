{
 "cells": [
  {
   "cell_type": "code",
   "execution_count": 1,
   "metadata": {},
   "outputs": [],
   "source": [
    "import numpy as np\n",
    "import pandas as pd\n",
    "import joblib\n",
    "import seaborn as sns\n",
    "import matplotlib.pyplot as plt\n",
    "from sklearn.preprocessing import QuantileTransformer\n",
    "from sklearn.cluster import KMeans\n",
    "from scipy.stats import shapiro\n",
    "\n",
    "df = pd.read_csv('test_data.csv')\n",
    "df = df.drop('Index', axis=1)\n",
    "\n",
    "cols_to_keep = [' Working Capital to Total Assets', ' Net Value Per Share (A)',\n",
    "       ' Current Liability to Assets', ' Fixed Assets Turnover Frequency',\n",
    "       ' Total Asset Turnover',\n",
    "       ' ROA(C) before interest and depreciation before interest',\n",
    "       ' Cash/Total Assets', ' Net Value Per Share (B)',\n",
    "       ' Current Liability to Current Assets', ' Revenue per person',\n",
    "       ' ROA(A) before interest and % after tax', ' Net Value Growth Rate',\n",
    "       ' Net Value Per Share (C)', ' CFO to Assets', ' Equity to Liability',\n",
    "       ' Net Income to Total Assets',\n",
    "       ' Per Share Net profit before tax (Yuan ¥)', ' Tax rate (A)',\n",
    "       ' Net profit before tax/Paid-in capital', ' Cash Flow to Total Assets',\n",
    "       ' Fixed Assets to Assets', ' Liability-Assets Flag',\n",
    "       ' Cash/Current Liability',\n",
    "       ' ROA(B) before interest and depreciation after tax',\n",
    "       ' Operating Funds to Liability', ' Net worth/Assets',\n",
    "       ' Persistent EPS in the Last Four Seasons',\n",
    "       ' Quick Assets/Total Assets', ' Debt ratio %',\n",
    "       ' Current Assets/Total Assets']\n",
    "\n",
    "df = df[cols_to_keep]\n",
    "\n",
    "qt = joblib.load('qt.pkl')\n",
    "\n",
    "qt_data = qt.transform(df)\n",
    "\n",
    "df = pd.DataFrame(qt_data, columns=df.columns)\n",
    "\n",
    "cols_to_drop = []\n",
    "for i in df.columns:\n",
    "    stat, p = shapiro(df.loc[:,i])\n",
    "    if stat < 0.9:\n",
    "        cols_to_drop.append(i)\n",
    "\n",
    "df = df.drop(columns=cols_to_drop)\n",
    "\n",
    "df.to_csv('processed_test_data.csv',index=False)"
   ]
  }
 ],
 "metadata": {
  "kernelspec": {
   "display_name": "Python 3",
   "language": "python",
   "name": "python3"
  },
  "language_info": {
   "codemirror_mode": {
    "name": "ipython",
    "version": 3
   },
   "file_extension": ".py",
   "mimetype": "text/x-python",
   "name": "python",
   "nbconvert_exporter": "python",
   "pygments_lexer": "ipython3",
   "version": "3.11.0"
  }
 },
 "nbformat": 4,
 "nbformat_minor": 2
}
